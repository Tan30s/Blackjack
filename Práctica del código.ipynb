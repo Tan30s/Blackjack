{
 "cells": [
  {
   "cell_type": "code",
   "execution_count": null,
   "id": "0b1a7a2a",
   "metadata": {},
   "outputs": [],
   "source": [
    "Cartas=[(Ac,1,11),(2c,2)....]\n",
    "\n",
    "cartas_jugador=[(4c,4),(Ap,1,11),(j,10)]\n",
    "for i in range(len(cartas_jugador)):\n",
    "    \n",
    "    if cartas_jugador[0][1]+cartas_jugador[3][1] #menor que 10:\n",
    "  \n",
    "def contar(lista):\n",
    "    s=0\n",
    "    for i in lista:\n",
    "         s=s+i"
   ]
  }
 ],
 "metadata": {
  "kernelspec": {
   "display_name": "Python 3",
   "language": "python",
   "name": "python3"
  },
  "language_info": {
   "codemirror_mode": {
    "name": "ipython",
    "version": 3
   },
   "file_extension": ".py",
   "mimetype": "text/x-python",
   "name": "python",
   "nbconvert_exporter": "python",
   "pygments_lexer": "ipython3",
   "version": "3.8.8"
  }
 },
 "nbformat": 4,
 "nbformat_minor": 5
}
